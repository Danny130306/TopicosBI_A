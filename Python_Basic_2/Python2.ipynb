{
 "cells": [
  {
   "cell_type": "markdown",
   "id": "c15d143c",
   "metadata": {},
   "source": [
    "# Pyhton using Pandas and Numpy for Big Data\n",
    "\n",
    "Se instalará las librerías Pandas y Numpy para trabajar con datos masivos."
   ]
  }
 ],
 "metadata": {
  "language_info": {
   "name": "python"
  }
 },
 "nbformat": 4,
 "nbformat_minor": 5
}
