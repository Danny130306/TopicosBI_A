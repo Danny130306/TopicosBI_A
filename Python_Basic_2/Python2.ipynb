{
 "cells": [
  {
   "cell_type": "markdown",
   "id": "c15d143c",
   "metadata": {},
   "source": [
    "# Pyhton using Pandas and Numpy for Big Data\n",
    "\n",
    "Se instalará las librerías Pandas y Numpy para trabajar con datos masivos."
   ]
  },
  {
   "cell_type": "markdown",
   "id": "1f1d3bc7",
   "metadata": {},
   "source": [
    "## Summary\n",
    "1. Range\n",
    "2. List Comprenhension\n",
    "3. Instrucciones\n",
    "4. Fechas"
   ]
  },
  {
   "cell_type": "code",
   "execution_count": 2,
   "id": "67f488fd",
   "metadata": {},
   "outputs": [
    {
     "name": "stdout",
     "output_type": "stream",
     "text": [
      "range(0, 9)\n"
     ]
    }
   ],
   "source": [
    "list = range(9)\n",
    "print(list)"
   ]
  },
  {
   "cell_type": "code",
   "execution_count": null,
   "id": "54ecd007",
   "metadata": {},
   "outputs": [],
   "source": []
  }
 ],
 "metadata": {
  "kernelspec": {
   "display_name": "myenv",
   "language": "python",
   "name": "python3"
  },
  "language_info": {
   "codemirror_mode": {
    "name": "ipython",
    "version": 3
   },
   "file_extension": ".py",
   "mimetype": "text/x-python",
   "name": "python",
   "nbconvert_exporter": "python",
   "pygments_lexer": "ipython3",
   "version": "3.10.0"
  }
 },
 "nbformat": 4,
 "nbformat_minor": 5
}
